{
    "cells": [
        {
            "cell_type": "markdown",
            "metadata": {
                "collapsed": true
            },
            "source": "# Segmenting and Clustering Neighborhoods Part 2"
        },
        {
            "cell_type": "code",
            "execution_count": 2,
            "metadata": {},
            "outputs": [],
            "source": "import numpy as np\nimport pandas as pd\nimport matplotlib.pyplot as plt"
        },
        {
            "cell_type": "code",
            "execution_count": 3,
            "metadata": {},
            "outputs": [],
            "source": "url = 'https://en.wikipedia.org/wiki/List_of_postal_codes_of_Canada:_M'\ndf = pd.read_html(url)"
        },
        {
            "cell_type": "code",
            "execution_count": 4,
            "metadata": {},
            "outputs": [
                {
                    "data": {
                        "text/html": "<div>\n<style scoped>\n    .dataframe tbody tr th:only-of-type {\n        vertical-align: middle;\n    }\n\n    .dataframe tbody tr th {\n        vertical-align: top;\n    }\n\n    .dataframe thead th {\n        text-align: right;\n    }\n</style>\n<table border=\"1\" class=\"dataframe\">\n  <thead>\n    <tr style=\"text-align: right;\">\n      <th></th>\n      <th>Postal code</th>\n      <th>Borough</th>\n      <th>Neighborhood</th>\n    </tr>\n  </thead>\n  <tbody>\n    <tr>\n      <th>0</th>\n      <td>M1A</td>\n      <td>Not assigned</td>\n      <td>NaN</td>\n    </tr>\n    <tr>\n      <th>1</th>\n      <td>M2A</td>\n      <td>Not assigned</td>\n      <td>NaN</td>\n    </tr>\n    <tr>\n      <th>2</th>\n      <td>M3A</td>\n      <td>North York</td>\n      <td>Parkwoods</td>\n    </tr>\n    <tr>\n      <th>3</th>\n      <td>M4A</td>\n      <td>North York</td>\n      <td>Victoria Village</td>\n    </tr>\n    <tr>\n      <th>4</th>\n      <td>M5A</td>\n      <td>Downtown Toronto</td>\n      <td>Regent Park / Harbourfront</td>\n    </tr>\n  </tbody>\n</table>\n</div>",
                        "text/plain": "  Postal code           Borough                Neighborhood\n0         M1A      Not assigned                         NaN\n1         M2A      Not assigned                         NaN\n2         M3A        North York                   Parkwoods\n3         M4A        North York            Victoria Village\n4         M5A  Downtown Toronto  Regent Park / Harbourfront"
                    },
                    "execution_count": 4,
                    "metadata": {},
                    "output_type": "execute_result"
                }
            ],
            "source": "\ndf = df[0]\ndf.head()"
        },
        {
            "cell_type": "code",
            "execution_count": 5,
            "metadata": {},
            "outputs": [],
            "source": "df1 = df[df['Borough'] != 'Not assigned']"
        },
        {
            "cell_type": "code",
            "execution_count": 6,
            "metadata": {},
            "outputs": [],
            "source": "df2 = df1.reset_index(drop = True)"
        },
        {
            "cell_type": "code",
            "execution_count": 9,
            "metadata": {},
            "outputs": [
                {
                    "data": {
                        "text/plain": "(103, 3)"
                    },
                    "execution_count": 9,
                    "metadata": {},
                    "output_type": "execute_result"
                }
            ],
            "source": "templist = df2['Neighborhood'].to_list()\nfor i in range(len(templist)):\n    templist[i] = templist[i].replace('/', ', ')\n    \ndf2['Neighborhood'] = templist\n\ndf2.head()\ndf2.shape"
        },
        {
            "cell_type": "code",
            "execution_count": 10,
            "metadata": {},
            "outputs": [
                {
                    "name": "stdout",
                    "output_type": "stream",
                    "text": "Collecting geocoder\n\u001b[?25l  Downloading https://files.pythonhosted.org/packages/4f/6b/13166c909ad2f2d76b929a4227c952630ebaf0d729f6317eb09cbceccbab/geocoder-1.38.1-py2.py3-none-any.whl (98kB)\n\u001b[K     |\u2588\u2588\u2588\u2588\u2588\u2588\u2588\u2588\u2588\u2588\u2588\u2588\u2588\u2588\u2588\u2588\u2588\u2588\u2588\u2588\u2588\u2588\u2588\u2588\u2588\u2588\u2588\u2588\u2588\u2588\u2588\u2588| 102kB 8.2MB/s ta 0:00:011\n\u001b[?25hRequirement already satisfied: requests in /opt/conda/envs/Python36/lib/python3.6/site-packages (from geocoder) (2.21.0)\nRequirement already satisfied: future in /opt/conda/envs/Python36/lib/python3.6/site-packages (from geocoder) (0.17.1)\nRequirement already satisfied: six in /opt/conda/envs/Python36/lib/python3.6/site-packages (from geocoder) (1.12.0)\nCollecting ratelim (from geocoder)\n  Downloading https://files.pythonhosted.org/packages/f2/98/7e6d147fd16a10a5f821db6e25f192265d6ecca3d82957a4fdd592cad49c/ratelim-0.1.6-py2.py3-none-any.whl\nRequirement already satisfied: click in /opt/conda/envs/Python36/lib/python3.6/site-packages (from geocoder) (7.0)\nRequirement already satisfied: idna<2.9,>=2.5 in /opt/conda/envs/Python36/lib/python3.6/site-packages (from requests->geocoder) (2.8)\nRequirement already satisfied: chardet<3.1.0,>=3.0.2 in /opt/conda/envs/Python36/lib/python3.6/site-packages (from requests->geocoder) (3.0.4)\nRequirement already satisfied: urllib3<1.25,>=1.21.1 in /opt/conda/envs/Python36/lib/python3.6/site-packages (from requests->geocoder) (1.24.1)\nRequirement already satisfied: certifi>=2017.4.17 in /opt/conda/envs/Python36/lib/python3.6/site-packages (from requests->geocoder) (2019.11.28)\nRequirement already satisfied: decorator in /opt/conda/envs/Python36/lib/python3.6/site-packages (from ratelim->geocoder) (4.3.2)\nInstalling collected packages: ratelim, geocoder\nSuccessfully installed geocoder-1.38.1 ratelim-0.1.6\n"
                }
            ],
            "source": "import sys\n!{sys.executable} -m pip install geocoder"
        },
        {
            "cell_type": "code",
            "execution_count": 11,
            "metadata": {},
            "outputs": [
                {
                    "name": "stdout",
                    "output_type": "stream",
                    "text": "[43.75293455500008, -79.33564142299997]\n[43.72810248500008, -79.31188987099995]\n[43.65096410900003, -79.35304116399999]\n[43.723265465000054, -79.45121077799996]\n[43.66179000000005, -79.38938999999993]\n[43.66748067300006, -79.52895286499995]\n[43.80862623100006, -79.18991284599997]\n[43.74890000000005, -79.35721999999998]\n[43.70719267700008, -79.31152927299996]\n[43.65749059800004, -79.37752923699998]\n[43.70727872700007, -79.44750009299997]\n[43.65002250300006, -79.55408903099999]\n[43.78577865700004, -79.15736763799998]\n[43.72214339800007, -79.35202341799999]\n[43.68974004200004, -79.30850701899999]\n[43.65173364700007, -79.37555358799995]\n[43.69172991700003, -79.43001279899994]\n[43.637813150000056, -79.57648363299995]\n[43.76580607300008, -79.18528434099994]\n[43.67814827600006, -79.29534930999995]\n[43.645195888000046, -79.37385548899994]\n[43.68911756600005, -79.45065043699998]\n[43.77154467100007, -79.21813521299998]\n[43.70941386000004, -79.36309957799995]\n[43.65607218800005, -79.38565318999997]\n[43.668602116000045, -79.42038731299994]\n[43.76879106300004, -79.23881306799996]\n[43.802556149000054, -79.35656576499997]\n[43.75739449200006, -79.44239439999996]\n[43.70207200300007, -79.35161423599999]\n[43.65054164500003, -79.38411611599997]\n[43.66491031700008, -79.43866366999998]\n[43.74420268600005, -79.22872456899995]\n[43.78030600000005, -79.34868699999998]\n[43.76487186000003, -79.49249695199995]\n[43.687045770000054, -79.33388995799999]\n[43.62375000000003, -79.36919999999998]\n[43.64863621500007, -79.41775187699994]\n[43.72688089800005, -79.26569363099998]\n[43.780606885000054, -79.37692081799997]\n[43.73910091500005, -79.46763070999998]\n[43.683423910000045, -79.35456407799995]\n[43.64692288500004, -79.38162557699997]\n[43.639921634000075, -79.43123988199994]\n[43.71334044300005, -79.28494163099998]\n[43.74936000000008, -79.38068999999996]\n[43.72999160200004, -79.51202680199998]\n[43.668290659000036, -79.31557771299998]\n[43.648283294000066, -79.37875017599998]\n[43.71352959500007, -79.48872437199998]\n[43.75938139500005, -79.55717381699998]\n[43.72353760300007, -79.22835287899994]\n[43.79180026600005, -79.40642782199996]\n[43.733220000000074, -79.49769999999995]\n[43.648000000000025, -79.33925999999997]\n[43.735446609000064, -79.41794403499995]\n[43.695074962000035, -79.48717932199997]\n[43.733682102000046, -79.54438077099996]\n[43.696447877000026, -79.26564232899995]\n[43.769076780000034, -79.41369502399994]\n[43.75581917400007, -79.51997275199994]\n[43.72945456600007, -79.38641531799993]\n[43.710634140000025, -79.41874774499996]\n[43.67685581100005, -79.47869052799996]\n[43.70549635400005, -79.52037009099996]\n[43.76131000000004, -79.26993999999996]\n[43.750260000000026, -79.39835499999998]\n[43.71317113200007, -79.38887016199999]\n[43.69446000000005, -79.41027999999994]\n[43.65872000000007, -79.46314999999998]\n[43.69629612800003, -79.53312611699994]\n[43.75004250000006, -79.30053749999996]\n[43.77991227600006, -79.44522868999996]\n[43.714138802000036, -79.40645595899997]\n[43.67491074000003, -79.40393998899998]\n[43.647839601000044, -79.44838789999994]\n[43.648690000000045, -79.38543999999996]\n[43.68688713700004, -79.56550730099997]\n[43.79392980200004, -79.26569360999997]\n[43.70332655200008, -79.38564862099997]\n[43.66328128200007, -79.39808791199994]\n[43.64972539000007, -79.48269151199997]\n[43.78490240700006, -79.30472546399994]\n[43.690328124000075, -79.38352175499995]\n[43.65349712200003, -79.39740961799998]\n[43.81799836300007, -79.28088739199995]\n[43.686377906000075, -79.40237221299998]\n[43.64053911600007, -79.39743510499994]\n[43.61007458300003, -79.49975147199996]\n[43.74405485200003, -79.58120294599996]\n[43.80053000000004, -79.32182999999998]\n[43.681892762000075, -79.37670588599997]\n[43.648700000000076, -79.38544999999993]\n[43.60089538500006, -79.54038692299997]\n[43.71161519300006, -79.58835079199997]\n[43.83476822500006, -79.20410074399996]\n[43.667656097000076, -79.36732626299994]\n[43.64826890100005, -79.38188376699998]\n[43.65333956200004, -79.50976584199998]\n[43.66665858500005, -79.38147173199997]\n[43.648700000000076, -79.38544999999993]\n[43.632798483000045, -79.49301657299998]\n[43.62549000000007, -79.52599999999995]\ndone\n"
                }
            ],
            "source": "import geocoder # import geocoder\n\n# initialize your variable to None\n\ndfnew = pd.DataFrame(columns = ['Postal code', 'Borough', 'Neighborhood', 'Latitude', 'Longitude'])\nltln = np.empty([2, len(df2['Postal code'])])\n\nfor num in range(len(df2['Postal code'])):\n    lat_lng_coords = None\n    while lat_lng_coords == None:\n        g = geocoder.arcgis('{}, Toronto, Ontario'.format(df2['Postal code'][num]))\n        lat_lng_coords = g.latlng\n    print(lat_lng_coords)\n    ltln[:,num] = lat_lng_coords\n    #dfnew.append({'Postal code' : df2['Postal code'][num], 'Borough' : df2['Borough'][num], 'Neighborhood' : df2['Neighborhood'][num],\n    #              'Latitude' : g.latlng[0], 'Longitude' : g.latlng[1]}, ignore_index = True)\n\nprint('done')"
        },
        {
            "cell_type": "code",
            "execution_count": null,
            "metadata": {},
            "outputs": [],
            "source": "df2['Lattitude'] = ltln[0]\ndf2['Longitude'] = ltln[1]\ndf2.head()\n\ndf2.shape"
        }
    ],
    "metadata": {
        "kernelspec": {
            "display_name": "Python 3.6",
            "language": "python",
            "name": "python3"
        },
        "language_info": {
            "codemirror_mode": {
                "name": "ipython",
                "version": 3
            },
            "file_extension": ".py",
            "mimetype": "text/x-python",
            "name": "python",
            "nbconvert_exporter": "python",
            "pygments_lexer": "ipython3",
            "version": "3.6.9"
        }
    },
    "nbformat": 4,
    "nbformat_minor": 1
}